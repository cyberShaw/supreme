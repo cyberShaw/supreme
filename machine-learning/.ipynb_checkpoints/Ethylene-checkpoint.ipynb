{
 "cells": [
  {
   "cell_type": "markdown",
   "metadata": {
    "colab_type": "text",
    "id": "yVX2AGJK6FyY"
   },
   "source": [
    "## Estimate recommended ethylene level allowed in the warehouse based on environmental and product parameters"
   ]
  },
  {
   "cell_type": "code",
   "execution_count": 36,
   "metadata": {
    "colab": {
     "base_uri": "https://localhost:8080/",
     "height": 285
    },
    "colab_type": "code",
    "id": "fHJyLYBgCxKB",
    "outputId": "c2d8f762-eafb-425e-8f12-b8cad6b6f505"
   },
   "outputs": [
    {
     "name": "stdout",
     "output_type": "stream",
     "text": [
      "Collecting git+https://github.com/tensorflow/docs\n",
      "  Cloning https://github.com/tensorflow/docs to /tmp/pip-req-build-3qkww8zr\n",
      "  Running command git clone -q https://github.com/tensorflow/docs /tmp/pip-req-build-3qkww8zr\n",
      "Requirement already satisfied (use --upgrade to upgrade): tensorflow-docs==0.0.0 from git+https://github.com/tensorflow/docs in /usr/local/lib/python3.6/dist-packages\n",
      "Requirement already satisfied: astor in /tensorflow-2.0.0/python3.6 (from tensorflow-docs==0.0.0) (0.8.0)\n",
      "Requirement already satisfied: absl-py in /tensorflow-2.0.0/python3.6 (from tensorflow-docs==0.0.0) (0.8.1)\n",
      "Requirement already satisfied: six in /tensorflow-2.0.0/python3.6 (from tensorflow-docs==0.0.0) (1.13.0)\n",
      "Requirement already satisfied: pathlib2 in /usr/local/lib/python3.6/dist-packages (from tensorflow-docs==0.0.0) (2.3.5)\n",
      "Requirement already satisfied: pyyaml in /usr/local/lib/python3.6/dist-packages (from tensorflow-docs==0.0.0) (3.13)\n",
      "Building wheels for collected packages: tensorflow-docs\n",
      "  Building wheel for tensorflow-docs (setup.py) ... \u001b[?25l\u001b[?25hdone\n",
      "  Created wheel for tensorflow-docs: filename=tensorflow_docs-0.0.0-cp36-none-any.whl size=80547 sha256=9a71b683d4ac5caeb411ebfd2d980417ee7ea02fda7a909285b395a322de9a3f\n",
      "  Stored in directory: /tmp/pip-ephem-wheel-cache-vqzljrup/wheels/eb/1b/35/fce87697be00d2fc63e0b4b395b0d9c7e391a10e98d9a0d97f\n",
      "Successfully built tensorflow-docs\n"
     ]
    }
   ],
   "source": [
    "# Use some functions from tensorflow_docs\n",
    "!pip install git+https://github.com/tensorflow/docs"
   ]
  },
  {
   "cell_type": "code",
   "execution_count": 37,
   "metadata": {
    "colab": {
     "base_uri": "https://localhost:8080/",
     "height": 70
    },
    "colab_type": "code",
    "id": "MyxSDfd0pXZo",
    "outputId": "20294b21-7226-49fd-94f6-551fd321fb9c"
   },
   "outputs": [
    {
     "name": "stdout",
     "output_type": "stream",
     "text": [
      "Requirement already satisfied: h5py in /tensorflow-2.0.0/python3.6 (2.10.0)\n",
      "Requirement already satisfied: six in /tensorflow-2.0.0/python3.6 (from h5py) (1.13.0)\n",
      "Requirement already satisfied: numpy>=1.7 in /tensorflow-2.0.0/python3.6 (from h5py) (1.17.4)\n"
     ]
    }
   ],
   "source": [
    "!pip install h5py"
   ]
  },
  {
   "cell_type": "code",
   "execution_count": 0,
   "metadata": {
    "colab": {},
    "colab_type": "code",
    "id": "eCukemSBANxG"
   },
   "outputs": [],
   "source": [
    "import numpy as np\n",
    "import pandas as pd\n",
    "from matplotlib import pyplot as plt\n",
    "import seaborn as sns\n",
    "\n",
    "from sklearn.model_selection import train_test_split"
   ]
  },
  {
   "cell_type": "code",
   "execution_count": 39,
   "metadata": {
    "colab": {
     "base_uri": "https://localhost:8080/",
     "height": 35
    },
    "colab_type": "code",
    "id": "8FcnccifAWU9",
    "outputId": "39a32692-56e1-4437-c83a-95bc0d231ebe"
   },
   "outputs": [
    {
     "name": "stdout",
     "output_type": "stream",
     "text": [
      "2.0.0\n"
     ]
    }
   ],
   "source": [
    "try:\n",
    "  # %tensorflow_version only exists in Colab.\n",
    "  %tensorflow_version 2.x\n",
    "except Exception:\n",
    "  pass\n",
    "import tensorflow as tf\n",
    "\n",
    "from tensorflow import keras\n",
    "from tensorflow.keras import layers\n",
    "\n",
    "print(tf.__version__)"
   ]
  },
  {
   "cell_type": "code",
   "execution_count": 0,
   "metadata": {
    "colab": {},
    "colab_type": "code",
    "id": "7Pt-FSkTCY6J"
   },
   "outputs": [],
   "source": [
    "import tensorflow_docs as tfdocs\n",
    "import tensorflow_docs.plots\n",
    "import tensorflow_docs.modeling"
   ]
  },
  {
   "cell_type": "code",
   "execution_count": 0,
   "metadata": {
    "colab": {},
    "colab_type": "code",
    "id": "tFmB1LduAgTZ"
   },
   "outputs": [],
   "source": [
    "dataset = pd.read_csv('/datasets/yeetFinal_eth.csv')"
   ]
  },
  {
   "cell_type": "code",
   "execution_count": 0,
   "metadata": {
    "colab": {},
    "colab_type": "code",
    "id": "41IZs8GqosSc"
   },
   "outputs": [],
   "source": []
  },
  {
   "cell_type": "code",
   "execution_count": 42,
   "metadata": {
    "colab": {
     "base_uri": "https://localhost:8080/",
     "height": 35
    },
    "colab_type": "code",
    "id": "2rhGikPwAy_A",
    "outputId": "48aec23a-4b3c-4506-9985-d90a0a99c583"
   },
   "outputs": [
    {
     "data": {
      "text/plain": [
       "480"
      ]
     },
     "execution_count": 42,
     "metadata": {
      "tags": []
     },
     "output_type": "execute_result"
    }
   ],
   "source": [
    "train_dataset = dataset.sample(frac=0.8,random_state=0)\n",
    "test_dataset = dataset.drop(train_dataset.index)\n",
    "len(train_dataset)"
   ]
  },
  {
   "cell_type": "code",
   "execution_count": 43,
   "metadata": {
    "colab": {
     "base_uri": "https://localhost:8080/",
     "height": 233
    },
    "colab_type": "code",
    "id": "l_3RRcWHA3Yk",
    "outputId": "93cac327-36eb-484f-f917-b90d0ac4eb5f"
   },
   "outputs": [
    {
     "data": {
      "text/html": [
       "<div>\n",
       "<style scoped>\n",
       "    .dataframe tbody tr th:only-of-type {\n",
       "        vertical-align: middle;\n",
       "    }\n",
       "\n",
       "    .dataframe tbody tr th {\n",
       "        vertical-align: top;\n",
       "    }\n",
       "\n",
       "    .dataframe thead th {\n",
       "        text-align: right;\n",
       "    }\n",
       "</style>\n",
       "<table border=\"1\" class=\"dataframe\">\n",
       "  <thead>\n",
       "    <tr style=\"text-align: right;\">\n",
       "      <th></th>\n",
       "      <th>count</th>\n",
       "      <th>mean</th>\n",
       "      <th>std</th>\n",
       "      <th>min</th>\n",
       "      <th>25%</th>\n",
       "      <th>50%</th>\n",
       "      <th>75%</th>\n",
       "      <th>max</th>\n",
       "    </tr>\n",
       "  </thead>\n",
       "  <tbody>\n",
       "    <tr>\n",
       "      <th>temperature</th>\n",
       "      <td>480.0</td>\n",
       "      <td>5.336097e+01</td>\n",
       "      <td>3.584914e+00</td>\n",
       "      <td>40.00</td>\n",
       "      <td>52.605112</td>\n",
       "      <td>53.949875</td>\n",
       "      <td>5.530326e+01</td>\n",
       "      <td>5.993939e+01</td>\n",
       "    </tr>\n",
       "    <tr>\n",
       "      <th>humidity</th>\n",
       "      <td>480.0</td>\n",
       "      <td>8.619044e+01</td>\n",
       "      <td>3.893193e+00</td>\n",
       "      <td>80.00</td>\n",
       "      <td>82.931571</td>\n",
       "      <td>85.902256</td>\n",
       "      <td>8.899180e+01</td>\n",
       "      <td>9.500000e+01</td>\n",
       "    </tr>\n",
       "    <tr>\n",
       "      <th>top_ice_accepted</th>\n",
       "      <td>480.0</td>\n",
       "      <td>2.375000e-01</td>\n",
       "      <td>4.259951e-01</td>\n",
       "      <td>0.00</td>\n",
       "      <td>0.000000</td>\n",
       "      <td>0.000000</td>\n",
       "      <td>0.000000e+00</td>\n",
       "      <td>1.000000e+00</td>\n",
       "    </tr>\n",
       "    <tr>\n",
       "      <th>water_sprinkle_accepted</th>\n",
       "      <td>480.0</td>\n",
       "      <td>2.375000e-01</td>\n",
       "      <td>4.259951e-01</td>\n",
       "      <td>0.00</td>\n",
       "      <td>0.000000</td>\n",
       "      <td>0.000000</td>\n",
       "      <td>0.000000e+00</td>\n",
       "      <td>1.000000e+00</td>\n",
       "    </tr>\n",
       "    <tr>\n",
       "      <th>c02</th>\n",
       "      <td>480.0</td>\n",
       "      <td>1.418478e+06</td>\n",
       "      <td>2.082732e+06</td>\n",
       "      <td>0.00</td>\n",
       "      <td>292105.263125</td>\n",
       "      <td>796491.228050</td>\n",
       "      <td>1.321930e+06</td>\n",
       "      <td>9.909090e+06</td>\n",
       "    </tr>\n",
       "    <tr>\n",
       "      <th>oxygen</th>\n",
       "      <td>480.0</td>\n",
       "      <td>4.569892e+05</td>\n",
       "      <td>2.959793e+05</td>\n",
       "      <td>50303.03</td>\n",
       "      <td>182061.403475</td>\n",
       "      <td>439210.526300</td>\n",
       "      <td>7.168860e+05</td>\n",
       "      <td>1.000000e+06</td>\n",
       "    </tr>\n",
       "  </tbody>\n",
       "</table>\n",
       "</div>"
      ],
      "text/plain": [
       "                         count          mean  ...           75%           max\n",
       "temperature              480.0  5.336097e+01  ...  5.530326e+01  5.993939e+01\n",
       "humidity                 480.0  8.619044e+01  ...  8.899180e+01  9.500000e+01\n",
       "top_ice_accepted         480.0  2.375000e-01  ...  0.000000e+00  1.000000e+00\n",
       "water_sprinkle_accepted  480.0  2.375000e-01  ...  0.000000e+00  1.000000e+00\n",
       "c02                      480.0  1.418478e+06  ...  1.321930e+06  9.909090e+06\n",
       "oxygen                   480.0  4.569892e+05  ...  7.168860e+05  1.000000e+06\n",
       "\n",
       "[6 rows x 8 columns]"
      ]
     },
     "execution_count": 43,
     "metadata": {
      "tags": []
     },
     "output_type": "execute_result"
    }
   ],
   "source": [
    "train_stats = train_dataset.describe()\n",
    "train_stats.pop(\"ethylene_ppm\")\n",
    "train_stats = train_stats.transpose()\n",
    "train_stats"
   ]
  },
  {
   "cell_type": "code",
   "execution_count": 44,
   "metadata": {
    "colab": {
     "base_uri": "https://localhost:8080/",
     "height": 265
    },
    "colab_type": "code",
    "id": "ZTAhlvV0uThN",
    "outputId": "398fc5fb-0ba3-41b2-e70b-c7d4ff67dd2a"
   },
   "outputs": [
    {
     "name": "stdout",
     "output_type": "stream",
     "text": [
      "temperature                5.336097e+01\n",
      "humidity                   8.619044e+01\n",
      "top_ice_accepted           2.375000e-01\n",
      "water_sprinkle_accepted    2.375000e-01\n",
      "c02                        1.418478e+06\n",
      "oxygen                     4.569892e+05\n",
      "Name: mean, dtype: float64\n",
      "temperature                3.584914e+00\n",
      "humidity                   3.893193e+00\n",
      "top_ice_accepted           4.259951e-01\n",
      "water_sprinkle_accepted    4.259951e-01\n",
      "c02                        2.082732e+06\n",
      "oxygen                     2.959793e+05\n",
      "Name: std, dtype: float64\n"
     ]
    }
   ],
   "source": [
    "print(train_stats['mean'])\n",
    "print(train_stats['std'])\n"
   ]
  },
  {
   "cell_type": "code",
   "execution_count": 0,
   "metadata": {
    "colab": {},
    "colab_type": "code",
    "id": "-W8CDABaBClD"
   },
   "outputs": [],
   "source": [
    "train_labels = train_dataset.pop('ethylene_ppm')\n",
    "test_labels = test_dataset.pop('ethylene_ppm')"
   ]
  },
  {
   "cell_type": "code",
   "execution_count": 46,
   "metadata": {
    "colab": {
     "base_uri": "https://localhost:8080/",
     "height": 88
    },
    "colab_type": "code",
    "id": "R8K3MBQuBKFZ",
    "outputId": "3991ffae-c378-42d9-c4f9-3b8932f78d9a"
   },
   "outputs": [
    {
     "name": "stdout",
     "output_type": "stream",
     "text": [
      "480\n",
      "480\n",
      "120\n",
      "120\n"
     ]
    }
   ],
   "source": [
    "print(len(train_dataset))\n",
    "print(len(train_labels))\n",
    "print(len(test_dataset))\n",
    "print(len(test_labels))"
   ]
  },
  {
   "cell_type": "code",
   "execution_count": 0,
   "metadata": {
    "colab": {},
    "colab_type": "code",
    "id": "A4850UNWBaQR"
   },
   "outputs": [],
   "source": [
    "def norm(x):\n",
    "  return (x - train_stats['mean']) / train_stats['std']\n",
    "normed_train_data = norm(train_dataset)\n",
    "normed_test_data = norm(test_dataset)"
   ]
  },
  {
   "cell_type": "code",
   "execution_count": 48,
   "metadata": {
    "colab": {
     "base_uri": "https://localhost:8080/",
     "height": 351
    },
    "colab_type": "code",
    "id": "P7UaX5YARBGQ",
    "outputId": "73395624-0426-49e4-c968-20096014b267"
   },
   "outputs": [
    {
     "data": {
      "image/png": "[encoded data removed]",
      "text/plain": [
       "<Figure size 432x288 with 2 Axes>"
      ]
     },
     "metadata": {
      "tags": []
     },
     "output_type": "display_data"
    }
   ],
   "source": [
    "corr = dataset.corr()\n",
    "ax = sns.heatmap(\n",
    "    corr, \n",
    "    vmin=-1, vmax=1, center=0,\n",
    "    # cmap=sns.diverging_palette(20, 220, n=200),\n",
    "    square=True\n",
    ")\n",
    "ax.set_xticklabels(\n",
    "    ax.get_xticklabels(),\n",
    "    rotation=45,\n",
    "    horizontalalignment='right'\n",
    ");"
   ]
  },
  {
   "cell_type": "code",
   "execution_count": 0,
   "metadata": {
    "colab": {},
    "colab_type": "code",
    "id": "pkzXVCCUBiKG"
   },
   "outputs": [],
   "source": [
    "def build_model():\n",
    "  model = keras.Sequential([\n",
    "    layers.Dense(64, activation='relu', input_dim=6),\n",
    "    layers.Dense(128, activation='relu'),\n",
    "    layers.Dense(128, activation='relu'),\n",
    "    layers.Dense(64, activation='relu'),\n",
    "    layers.Dense(1)\n",
    "  ])\n",
    "\n",
    "  optimizer = tf.keras.optimizers.RMSprop(0.0009)\n",
    "\n",
    "  model.compile(loss='mse',\n",
    "                optimizer=optimizer,\n",
    "                metrics=['mae', 'mse'])\n",
    "  return model"
   ]
  },
  {
   "cell_type": "code",
   "execution_count": 50,
   "metadata": {
    "colab": {
     "base_uri": "https://localhost:8080/",
     "height": 939
    },
    "colab_type": "code",
    "id": "BWdwAFOcqaRO",
    "outputId": "8f63cb6d-c7bf-4e66-d266-05e4c98c965a"
   },
   "outputs": [
    {
     "name": "stdout",
     "output_type": "stream",
     "text": [
      "WARNING:tensorflow:Falling back from v2 loop because of error: Failed to find data adapter that can handle input: <class 'pandas.core.frame.DataFrame'>, <class 'NoneType'>\n",
      "Train on 384 samples, validate on 96 samples\n",
      "Epoch 1/10\n",
      "384/384 [==============================] - 0s 314us/sample - loss: 12.2267 - mae: 2.9239 - mse: 12.2267 - val_loss: 12.0381 - val_mae: 2.9399 - val_mse: 12.0381\n",
      "Epoch 2/10\n",
      "384/384 [==============================] - 0s 51us/sample - loss: 10.9972 - mae: 2.7900 - mse: 10.9972 - val_loss: 10.8978 - val_mae: 2.7962 - val_mse: 10.8978\n",
      "Epoch 3/10\n",
      "384/384 [==============================] - 0s 59us/sample - loss: 10.0686 - mae: 2.6728 - mse: 10.0686 - val_loss: 9.9211 - val_mae: 2.6576 - val_mse: 9.9211\n",
      "Epoch 4/10\n",
      "384/384 [==============================] - 0s 56us/sample - loss: 9.2394 - mae: 2.5542 - mse: 9.2394 - val_loss: 9.0538 - val_mae: 2.5221 - val_mse: 9.0538\n",
      "Epoch 5/10\n",
      "384/384 [==============================] - 0s 52us/sample - loss: 8.4930 - mae: 2.4412 - mse: 8.4930 - val_loss: 8.3097 - val_mae: 2.3897 - val_mse: 8.3097\n",
      "Epoch 6/10\n",
      "384/384 [==============================] - 0s 51us/sample - loss: 7.8646 - mae: 2.3383 - mse: 7.8646 - val_loss: 7.7194 - val_mae: 2.2902 - val_mse: 7.7194\n",
      "Epoch 7/10\n",
      "384/384 [==============================] - 0s 47us/sample - loss: 7.3383 - mae: 2.2453 - mse: 7.3383 - val_loss: 7.2467 - val_mae: 2.2076 - val_mse: 7.2467\n",
      "Epoch 8/10\n",
      "384/384 [==============================] - 0s 50us/sample - loss: 6.8671 - mae: 2.1626 - mse: 6.8671 - val_loss: 6.8383 - val_mae: 2.1395 - val_mse: 6.8383\n",
      "Epoch 9/10\n",
      "384/384 [==============================] - 0s 55us/sample - loss: 6.4449 - mae: 2.0881 - mse: 6.4449 - val_loss: 6.4961 - val_mae: 2.0855 - val_mse: 6.4961\n",
      "Epoch 10/10\n",
      "384/384 [==============================] - 0s 52us/sample - loss: 6.1082 - mae: 2.0271 - mse: 6.1082 - val_loss: 6.2435 - val_mae: 2.0451 - val_mse: 6.2435\n",
      "----------\n",
      "[[ 0.24876402]\n",
      " [-0.6283476 ]\n",
      " [ 0.8161448 ]\n",
      " [ 0.49003142]\n",
      " [ 1.0593774 ]\n",
      " [ 0.9109665 ]]\n",
      "[0.7536671]\n",
      "-----------\n",
      "WARNING:tensorflow:Falling back from v2 loop because of error: Failed to find data adapter that can handle input: <class 'pandas.core.frame.DataFrame'>, <class 'NoneType'>\n",
      "    temperature  humidity  ...       c02    oxygen\n",
      "3     -0.217444 -0.315431  ... -0.601043  1.276857\n",
      "9      0.504043  0.289700  ... -0.580827  0.159543\n",
      "11     0.296596  0.148269  ...  2.985447  0.513893\n",
      "19     1.175702  0.978518  ...  1.501382 -0.806838\n",
      "23     0.355830 -1.223126  ... -0.407303 -0.133271\n",
      "\n",
      "[5 rows x 6 columns]\n",
      "3     1.380952\n",
      "9     3.656642\n",
      "11    7.171717\n",
      "19    6.161616\n",
      "23    3.496241\n",
      "Name: ethylene_ppm, dtype: float64\n",
      "[[0.6960001]\n",
      " [0.6491507]\n",
      " [6.7030993]\n",
      " [3.6247773]\n",
      " [2.2454786]]\n"
     ]
    }
   ],
   "source": [
    "model_linear = keras.Sequential([\n",
    "    layers.Dense(1, activation='relu', input_dim=6)\n",
    "])\n",
    "\n",
    "model_linear.compile(\n",
    "    loss = 'mse',\n",
    "    optimizer = tf.keras.optimizers.RMSprop(0.006),\n",
    "    # optimizer = 'adam',\n",
    "    metrics = ['mae', 'mse']\n",
    ")\n",
    "\n",
    "model_linear.fit(normed_train_data, train_labels, epochs=10, validation_split = 0.2, verbose=1)\n",
    "\n",
    "# testp = normed_test_data[:5]\n",
    "# testy = test_labels[:5]\n",
    "# test_predictions = model.predict(test)\n",
    "\n",
    "print(\"----------\")\n",
    "print(model_linear.get_weights()[0])\n",
    "print(model_linear.get_weights()[1])\n",
    "print(\"-----------\")\n",
    "\n",
    "testxl = normed_test_data[:5]\n",
    "testyl = test_labels[:5]\n",
    "test_predictions = model_linear.predict(testxl)\n",
    "print(testxl)\n",
    "print(testyl)\n",
    "print(test_predictions)"
   ]
  },
  {
   "cell_type": "code",
   "execution_count": 0,
   "metadata": {
    "colab": {},
    "colab_type": "code",
    "id": "w_XMok48Bs6X"
   },
   "outputs": [],
   "source": [
    "model = build_model()"
   ]
  },
  {
   "cell_type": "code",
   "execution_count": 52,
   "metadata": {
    "colab": {
     "base_uri": "https://localhost:8080/",
     "height": 335
    },
    "colab_type": "code",
    "id": "pXH27-JcBu8z",
    "outputId": "84e0ab1d-709b-4f95-def5-6a2a1ac79e70"
   },
   "outputs": [
    {
     "name": "stdout",
     "output_type": "stream",
     "text": [
      "Model: \"sequential_12\"\n",
      "_________________________________________________________________\n",
      "Layer (type)                 Output Shape              Param #   \n",
      "=================================================================\n",
      "dense_16 (Dense)             (None, 64)                448       \n",
      "_________________________________________________________________\n",
      "dense_17 (Dense)             (None, 128)               8320      \n",
      "_________________________________________________________________\n",
      "dense_18 (Dense)             (None, 128)               16512     \n",
      "_________________________________________________________________\n",
      "dense_19 (Dense)             (None, 64)                8256      \n",
      "_________________________________________________________________\n",
      "dense_20 (Dense)             (None, 1)                 65        \n",
      "=================================================================\n",
      "Total params: 33,601\n",
      "Trainable params: 33,601\n",
      "Non-trainable params: 0\n",
      "_________________________________________________________________\n"
     ]
    }
   ],
   "source": [
    "model.summary()"
   ]
  },
  {
   "cell_type": "code",
   "execution_count": 53,
   "metadata": {
    "colab": {
     "base_uri": "https://localhost:8080/",
     "height": 231
    },
    "colab_type": "code",
    "id": "VL2qLWz_B3eH",
    "outputId": "7bfd2789-8509-433b-dbb4-af556e04cfa6"
   },
   "outputs": [
    {
     "name": "stdout",
     "output_type": "stream",
     "text": [
      "WARNING:tensorflow:Falling back from v2 loop because of error: Failed to find data adapter that can handle input: <class 'pandas.core.frame.DataFrame'>, <class 'NoneType'>\n"
     ]
    },
    {
     "data": {
      "text/plain": [
       "array([[-0.06366442],\n",
       "       [-0.1497063 ],\n",
       "       [-0.2817943 ],\n",
       "       [-0.12853324],\n",
       "       [-0.11526636],\n",
       "       [-0.03291614],\n",
       "       [-0.05843357],\n",
       "       [-0.04126074],\n",
       "       [-0.05849885],\n",
       "       [-0.00157857]], dtype=float32)"
      ]
     },
     "execution_count": 53,
     "metadata": {
      "tags": []
     },
     "output_type": "execute_result"
    }
   ],
   "source": [
    "example_batch = normed_train_data[:10]\n",
    "example_result = model.predict(example_batch)\n",
    "example_result"
   ]
  },
  {
   "cell_type": "code",
   "execution_count": 54,
   "metadata": {
    "colab": {
     "base_uri": "https://localhost:8080/",
     "height": 815
    },
    "colab_type": "code",
    "id": "72jGSafQCJIV",
    "outputId": "e36881c4-c06e-41e6-d8cb-5855b730f265"
   },
   "outputs": [
    {
     "name": "stdout",
     "output_type": "stream",
     "text": [
      "WARNING:tensorflow:Falling back from v2 loop because of error: Failed to find data adapter that can handle input: <class 'pandas.core.frame.DataFrame'>, <class 'NoneType'>\n",
      "Train on 384 samples, validate on 96 samples\n",
      "Epoch 1/20\n",
      " 32/384 [=>............................] - ETA: 0s - loss: 14.8092 - mae: 3.2688 - mse: 14.8092\n",
      "Epoch: 0, loss:7.7978,  mae:2.1704,  mse:7.7978,  val_loss:2.5827,  val_mae:1.3557,  val_mse:2.5827,  \n",
      "384/384 [==============================] - 0s 501us/sample - loss: 7.7978 - mae: 2.1704 - mse: 7.7978 - val_loss: 2.5827 - val_mae: 1.3557 - val_mse: 2.5827\n",
      "Epoch 2/20\n",
      "384/384 [==============================] - 0s 83us/sample - loss: 2.1920 - mae: 1.2084 - mse: 2.1920 - val_loss: 2.1484 - val_mae: 1.2022 - val_mse: 2.1484\n",
      "Epoch 3/20\n",
      "384/384 [==============================] - 0s 81us/sample - loss: 1.8495 - mae: 1.0844 - mse: 1.8495 - val_loss: 1.9089 - val_mae: 1.1680 - val_mse: 1.9089\n",
      "Epoch 4/20\n",
      "384/384 [==============================] - 0s 92us/sample - loss: 1.6256 - mae: 1.0193 - mse: 1.6256 - val_loss: 1.8119 - val_mae: 1.1361 - val_mse: 1.8119\n",
      "Epoch 5/20\n",
      "384/384 [==============================] - 0s 80us/sample - loss: 1.5168 - mae: 0.9909 - mse: 1.5168 - val_loss: 1.7558 - val_mae: 1.1173 - val_mse: 1.7558\n",
      "Epoch 6/20\n",
      "384/384 [==============================] - 0s 77us/sample - loss: 1.5495 - mae: 0.9859 - mse: 1.5495 - val_loss: 1.7833 - val_mae: 1.1125 - val_mse: 1.7833\n",
      "Epoch 7/20\n",
      "384/384 [==============================] - 0s 77us/sample - loss: 1.3824 - mae: 0.9350 - mse: 1.3824 - val_loss: 2.1963 - val_mae: 1.1743 - val_mse: 2.1963\n",
      "Epoch 8/20\n",
      "384/384 [==============================] - 0s 85us/sample - loss: 1.4387 - mae: 0.9455 - mse: 1.4387 - val_loss: 1.7233 - val_mae: 1.0930 - val_mse: 1.7233\n",
      "Epoch 9/20\n",
      "384/384 [==============================] - 0s 72us/sample - loss: 1.4007 - mae: 0.9291 - mse: 1.4007 - val_loss: 1.8832 - val_mae: 1.1100 - val_mse: 1.8832\n",
      "Epoch 10/20\n",
      "384/384 [==============================] - 0s 74us/sample - loss: 1.4215 - mae: 0.9450 - mse: 1.4215 - val_loss: 1.6820 - val_mae: 1.0595 - val_mse: 1.6820\n",
      "Epoch 11/20\n",
      "384/384 [==============================] - 0s 110us/sample - loss: 1.4516 - mae: 0.9393 - mse: 1.4516 - val_loss: 1.6349 - val_mae: 1.0529 - val_mse: 1.6349\n",
      "Epoch 12/20\n",
      "384/384 [==============================] - 0s 79us/sample - loss: 1.3116 - mae: 0.9036 - mse: 1.3116 - val_loss: 1.9596 - val_mae: 1.1257 - val_mse: 1.9596\n",
      "Epoch 13/20\n",
      "384/384 [==============================] - 0s 89us/sample - loss: 1.2739 - mae: 0.8913 - mse: 1.2739 - val_loss: 1.7161 - val_mae: 1.0784 - val_mse: 1.7161\n",
      "Epoch 14/20\n",
      "384/384 [==============================] - 0s 69us/sample - loss: 1.3389 - mae: 0.9058 - mse: 1.3389 - val_loss: 1.7196 - val_mae: 1.0685 - val_mse: 1.7196\n",
      "Epoch 15/20\n",
      "384/384 [==============================] - 0s 78us/sample - loss: 1.3702 - mae: 0.9175 - mse: 1.3702 - val_loss: 1.6247 - val_mae: 1.0557 - val_mse: 1.6247\n",
      "Epoch 16/20\n",
      "384/384 [==============================] - 0s 76us/sample - loss: 1.3265 - mae: 0.9148 - mse: 1.3265 - val_loss: 1.6810 - val_mae: 1.0427 - val_mse: 1.6810\n",
      "Epoch 17/20\n",
      "384/384 [==============================] - 0s 74us/sample - loss: 1.2698 - mae: 0.8845 - mse: 1.2698 - val_loss: 1.8309 - val_mae: 1.0784 - val_mse: 1.8309\n",
      "Epoch 18/20\n",
      "384/384 [==============================] - 0s 80us/sample - loss: 1.2796 - mae: 0.8889 - mse: 1.2796 - val_loss: 1.6025 - val_mae: 1.0402 - val_mse: 1.6025\n",
      "Epoch 19/20\n",
      "384/384 [==============================] - 0s 95us/sample - loss: 1.2490 - mae: 0.8955 - mse: 1.2490 - val_loss: 1.9575 - val_mae: 1.0975 - val_mse: 1.9575\n",
      "Epoch 20/20\n",
      "384/384 [==============================] - 0s 86us/sample - loss: 1.2218 - mae: 0.8774 - mse: 1.2218 - val_loss: 1.8301 - val_mae: 1.0771 - val_mse: 1.8301\n"
     ]
    }
   ],
   "source": [
    "EPOCHS = 20\n",
    "\n",
    "history = model.fit(\n",
    "  normed_train_data, train_labels,\n",
    "  epochs=EPOCHS, validation_split = 0.2, verbose=1,\n",
    "  callbacks=[tfdocs.modeling.EpochDots()])"
   ]
  },
  {
   "cell_type": "code",
   "execution_count": 55,
   "metadata": {
    "colab": {
     "base_uri": "https://localhost:8080/",
     "height": 202
    },
    "colab_type": "code",
    "id": "9eQ4YivpCR3O",
    "outputId": "c74c5a9a-f02e-4e6a-ddbc-4a4a64f1c8ea"
   },
   "outputs": [
    {
     "data": {
      "text/html": [
       "<div>\n",
       "<style scoped>\n",
       "    .dataframe tbody tr th:only-of-type {\n",
       "        vertical-align: middle;\n",
       "    }\n",
       "\n",
       "    .dataframe tbody tr th {\n",
       "        vertical-align: top;\n",
       "    }\n",
       "\n",
       "    .dataframe thead th {\n",
       "        text-align: right;\n",
       "    }\n",
       "</style>\n",
       "<table border=\"1\" class=\"dataframe\">\n",
       "  <thead>\n",
       "    <tr style=\"text-align: right;\">\n",
       "      <th></th>\n",
       "      <th>loss</th>\n",
       "      <th>mae</th>\n",
       "      <th>mse</th>\n",
       "      <th>val_loss</th>\n",
       "      <th>val_mae</th>\n",
       "      <th>val_mse</th>\n",
       "      <th>epoch</th>\n",
       "    </tr>\n",
       "  </thead>\n",
       "  <tbody>\n",
       "    <tr>\n",
       "      <th>15</th>\n",
       "      <td>1.326488</td>\n",
       "      <td>0.914813</td>\n",
       "      <td>1.326488</td>\n",
       "      <td>1.681043</td>\n",
       "      <td>1.042740</td>\n",
       "      <td>1.681044</td>\n",
       "      <td>15</td>\n",
       "    </tr>\n",
       "    <tr>\n",
       "      <th>16</th>\n",
       "      <td>1.269789</td>\n",
       "      <td>0.884460</td>\n",
       "      <td>1.269789</td>\n",
       "      <td>1.830910</td>\n",
       "      <td>1.078434</td>\n",
       "      <td>1.830910</td>\n",
       "      <td>16</td>\n",
       "    </tr>\n",
       "    <tr>\n",
       "      <th>17</th>\n",
       "      <td>1.279563</td>\n",
       "      <td>0.888877</td>\n",
       "      <td>1.279563</td>\n",
       "      <td>1.602471</td>\n",
       "      <td>1.040164</td>\n",
       "      <td>1.602471</td>\n",
       "      <td>17</td>\n",
       "    </tr>\n",
       "    <tr>\n",
       "      <th>18</th>\n",
       "      <td>1.248999</td>\n",
       "      <td>0.895451</td>\n",
       "      <td>1.248999</td>\n",
       "      <td>1.957542</td>\n",
       "      <td>1.097492</td>\n",
       "      <td>1.957542</td>\n",
       "      <td>18</td>\n",
       "    </tr>\n",
       "    <tr>\n",
       "      <th>19</th>\n",
       "      <td>1.221844</td>\n",
       "      <td>0.877387</td>\n",
       "      <td>1.221844</td>\n",
       "      <td>1.830137</td>\n",
       "      <td>1.077074</td>\n",
       "      <td>1.830137</td>\n",
       "      <td>19</td>\n",
       "    </tr>\n",
       "  </tbody>\n",
       "</table>\n",
       "</div>"
      ],
      "text/plain": [
       "        loss       mae       mse  val_loss   val_mae   val_mse  epoch\n",
       "15  1.326488  0.914813  1.326488  1.681043  1.042740  1.681044     15\n",
       "16  1.269789  0.884460  1.269789  1.830910  1.078434  1.830910     16\n",
       "17  1.279563  0.888877  1.279563  1.602471  1.040164  1.602471     17\n",
       "18  1.248999  0.895451  1.248999  1.957542  1.097492  1.957542     18\n",
       "19  1.221844  0.877387  1.221844  1.830137  1.077074  1.830137     19"
      ]
     },
     "execution_count": 55,
     "metadata": {
      "tags": []
     },
     "output_type": "execute_result"
    }
   ],
   "source": [
    "hist = pd.DataFrame(history.history)\n",
    "hist['epoch'] = history.epoch\n",
    "hist.tail()"
   ]
  },
  {
   "cell_type": "code",
   "execution_count": 56,
   "metadata": {
    "cellView": "both",
    "colab": {
     "base_uri": "https://localhost:8080/",
     "height": 335
    },
    "colab_type": "code",
    "id": "aW5deLcNorJE",
    "outputId": "1988df77-f43e-4d4b-e7be-795fb2ae02b4"
   },
   "outputs": [
    {
     "name": "stdout",
     "output_type": "stream",
     "text": [
      "WARNING:tensorflow:Falling back from v2 loop because of error: Failed to find data adapter that can handle input: <class 'pandas.core.frame.DataFrame'>, <class 'NoneType'>\n"
     ]
    },
    {
     "data": {
      "text/plain": [
       "<matplotlib.axes._subplots.AxesSubplot at 0x7fdccebe9eb8>"
      ]
     },
     "execution_count": 56,
     "metadata": {
      "tags": []
     },
     "output_type": "execute_result"
    },
    {
     "data": {
      "image/png": "[encoded data removed]",
      "text/plain": [
       "<Figure size 432x288 with 1 Axes>"
      ]
     },
     "metadata": {
      "tags": []
     },
     "output_type": "display_data"
    }
   ],
   "source": [
    "#@title Default title text\n",
    "test_predictions = model.predict(normed_test_data).flatten()\n",
    "\n",
    "# a = plt.axes(aspect='equal')\n",
    "# plt.scatter(test_labels, test_predictions)\n",
    "# plt.xlabel('True Values [shelf_life]')\n",
    "# plt.ylabel('Predictions [shelf_life]')\n",
    "# lims = [0, 10]\n",
    "# plt.xlim(lims)\n",
    "# plt.ylim(lims)\n",
    "# _ = plt.plot(lims, lims)\n",
    "\n",
    "sns.regplot(x=test_labels, y=test_predictions)\n"
   ]
  },
  {
   "cell_type": "code",
   "execution_count": 57,
   "metadata": {
    "colab": {
     "base_uri": "https://localhost:8080/",
     "height": 279
    },
    "colab_type": "code",
    "id": "8tpPSq5iEG_i",
    "outputId": "c415626f-b4de-4fac-b4a9-0a39a11f04a5"
   },
   "outputs": [
    {
     "data": {
      "image/png": "[encoded data removed]",
      "text/plain": [
       "<Figure size 432x288 with 1 Axes>"
      ]
     },
     "metadata": {
      "tags": []
     },
     "output_type": "display_data"
    }
   ],
   "source": [
    "error = test_predictions - test_labels\n",
    "plt.hist(error, bins = 25)\n",
    "plt.xlabel(\"Prediction Error\")\n",
    "_ = plt.ylabel(\"Count\")"
   ]
  },
  {
   "cell_type": "code",
   "execution_count": 58,
   "metadata": {
    "colab": {
     "base_uri": "https://localhost:8080/",
     "height": 391
    },
    "colab_type": "code",
    "id": "YHQPlH7NEgqE",
    "outputId": "43eaf74e-c3d2-4044-f96c-880cd1092fc0"
   },
   "outputs": [
    {
     "name": "stdout",
     "output_type": "stream",
     "text": [
      "WARNING:tensorflow:Falling back from v2 loop because of error: Failed to find data adapter that can handle input: <class 'pandas.core.frame.DataFrame'>, <class 'NoneType'>\n",
      "    temperature  humidity  ...       c02    oxygen\n",
      "3     -0.217444 -0.315431  ... -0.601043  1.276857\n",
      "9      0.504043  0.289700  ... -0.580827  0.159543\n",
      "11     0.296596  0.148269  ...  2.985447  0.513893\n",
      "19     1.175702  0.978518  ...  1.501382 -0.806838\n",
      "23     0.355830 -1.223126  ... -0.407303 -0.133271\n",
      "\n",
      "[5 rows x 6 columns]\n",
      "3     1.380952\n",
      "9     3.656642\n",
      "11    7.171717\n",
      "19    6.161616\n",
      "23    3.496241\n",
      "Name: ethylene_ppm, dtype: float64\n",
      "[[2.4736123]\n",
      " [2.606459 ]\n",
      " [5.8313174]\n",
      " [6.1197705]\n",
      " [2.8962023]]\n"
     ]
    }
   ],
   "source": [
    "# testp = normed_test_data[:5]\n",
    "# testy = test_labels[:5]\n",
    "# test_predictions = model.predict(test)\n",
    "\n",
    "testx = normed_test_data[:5]\n",
    "testy = test_labels[:5]\n",
    "test_predictions = model.predict(testx)\n",
    "print(testx)\n",
    "print(testy)\n",
    "print(test_predictions)"
   ]
  },
  {
   "cell_type": "code",
   "execution_count": 59,
   "metadata": {
    "colab": {
     "base_uri": "https://localhost:8080/",
     "height": 35
    },
    "colab_type": "code",
    "id": "TJa4QRciIdw7",
    "outputId": "755d4010-59d1-4a6c-b52a-fddae70fd998"
   },
   "outputs": [
    {
     "name": "stdout",
     "output_type": "stream",
     "text": [
      "Saved model to disk\n"
     ]
    }
   ],
   "source": [
    "# serialize model to JSON\n",
    "model_json = model.to_json()\n",
    "with open(\"model.json\", \"w\") as json_file:\n",
    "    json_file.write(model_json)\n",
    "# serialize weights to HDF5\n",
    "model.save_weights(\"model.h5\")\n",
    "print(\"Saved model to disk\")"
   ]
  },
  {
   "cell_type": "code",
   "execution_count": 60,
   "metadata": {
    "colab": {
     "base_uri": "https://localhost:8080/",
     "height": 35
    },
    "colab_type": "code",
    "id": "U9CD1_sOL3lv",
    "outputId": "2648aa5b-d885-4163-ec9f-f396b727d95d"
   },
   "outputs": [
    {
     "name": "stdout",
     "output_type": "stream",
     "text": [
      "Drive already mounted at /content/drive; to attempt to forcibly remount, call drive.mount(\"/content/drive\", force_remount=True).\n"
     ]
    }
   ],
   "source": [
    "# from google.colab import drive\n",
    "# drive.mount('/content/drive')"
   ]
  },
  {
   "cell_type": "code",
   "execution_count": 0,
   "metadata": {
    "colab": {},
    "colab_type": "code",
    "id": "0uMy_SCnL8Th"
   },
   "outputs": [],
   "source": []
  }
 ],
 "metadata": {
  "colab": {
   "collapsed_sections": [],
   "name": "Ethylene.ipynb",
   "provenance": []
  },
  "kernelspec": {
   "display_name": "Python 3",
   "language": "python",
   "name": "python3"
  },
  "language_info": {
   "codemirror_mode": {
    "name": "ipython",
    "version": 3
   },
   "file_extension": ".py",
   "mimetype": "text/x-python",
   "name": "python",
   "nbconvert_exporter": "python",
   "pygments_lexer": "ipython3",
   "version": "3.6.8"
  }
 },
 "nbformat": 4,
 "nbformat_minor": 1
}
